{
 "metadata": {
  "name": "ctes"
 },
 "nbformat": 3,
 "nbformat_minor": 0,
 "worksheets": [
  {
   "cells": [
    {
     "cell_type": "code",
     "collapsed": false,
     "input": [
      "%pylab inline "
     ],
     "language": "python",
     "metadata": {},
     "outputs": [],
     "prompt_number": "*"
    },
    {
     "cell_type": "heading",
     "level": 3,
     "metadata": {},
     "source": [
      "Definimos las funciones"
     ]
    },
    {
     "cell_type": "code",
     "collapsed": false,
     "input": [
      "#derivadas de la ecuacion\n",
      "def Pdouble(P,alpha, beta,Km1,Km2,So):\n",
      "    a= alpha*(So-P)/(Km1+So-P) - beta*P/(Km2+P)\n",
      "    return a"
     ],
     "language": "python",
     "metadata": {},
     "outputs": [],
     "prompt_number": "*"
    },
    {
     "cell_type": "code",
     "collapsed": false,
     "input": [
      "#metodo rungekutta para resolver la ecuacion diferencial y obtener P\n",
      "\n",
      "\n",
      "def rungekutta(P,salto,alpha,beta,Km1,Km2,So):\n",
      "      \n",
      "    h=salto\n",
      "    \n",
      "    l1 = Pdouble(P,alpha,beta,Km1,Km2,So)\n",
      "    \n",
      "    #first step\n",
      "    \n",
      "    P1 = P + (h/2.0) * l1\n",
      "    \n",
      "    l2 = Pdouble(P1,alpha,beta,Km1,Km2,So)\n",
      "    \n",
      "    #second step\n",
      "    \n",
      "    P2= P+ (h/2.0) * l2\n",
      "\n",
      "    l3 = Pdouble(P2,alpha,beta,Km1,Km2,So)\n",
      "    \n",
      "    #third step\n",
      "    \n",
      "    P3 = P + h * l3\n",
      "\n",
      "    l4 = Pdouble(P3,alpha,beta,Km1,Km2,So)\n",
      "    \n",
      "    #fourth step\n",
      "    average_l = (1.0/6.0)*(l1 + 2.0*l2 + 2.0*l3 + l4)\n",
      "    \n",
      "    solucion = P+ h * average_l\n",
      "    \n",
      "    return solucion\n",
      "\n"
     ],
     "language": "python",
     "metadata": {},
     "outputs": [],
     "prompt_number": "*"
    },
    {
     "cell_type": "code",
     "collapsed": false,
     "input": [
      "#funcion para calcular la verosimilitud\n",
      "\n",
      "def likelihood(p_obs, p_model):\n",
      "    \n",
      "    chi_squared = sum((p_obs-p_model)**2)\n",
      "    \n",
      "    return exp(-chi_squared)\n",
      "    "
     ],
     "language": "python",
     "metadata": {},
     "outputs": [],
     "prompt_number": "*"
    },
    {
     "cell_type": "heading",
     "level": 3,
     "metadata": {},
     "source": [
      "Definimos las constantes y arreglos que seran usados"
     ]
    },
    {
     "cell_type": "code",
     "collapsed": false,
     "input": [
      "#arreglo que representa el tiempo de medicion y las posiciones conocidas dadas por observaciones hechas\n",
      "posiciones=[]\n",
      "t=[]\n",
      "\n",
      "#tiempo total, numero de constantes a trabajar, iteraciones que se  haran para hallar las constantes, paso\n",
      "Tmax=30000\n",
      "numConst=5\n",
      "iteraciones=20000\n",
      "h=0.001\n",
      "\n",
      "\n",
      "#arreglo de las constantes\n",
      "\n",
      "alpha=[]\n",
      "beta=[]\n",
      "Km1=[]\n",
      "Km2=[]\n",
      "So=[]"
     ],
     "language": "python",
     "metadata": {},
     "outputs": [],
     "prompt_number": "*"
    },
    {
     "cell_type": "code",
     "collapsed": false,
     "input": [
      "#se llena el arreglo del tiempo\n",
      "for i in range(Tmax):\n",
      "    t=append(t,(i+1)*h)\n",
      "print size(t),t[-1]"
     ],
     "language": "python",
     "metadata": {},
     "outputs": [],
     "prompt_number": "*"
    },
    {
     "cell_type": "code",
     "collapsed": false,
     "input": [
      "#se toman las posiciones originales donde hay mediciones\n",
      "archivo=np.loadtxt(open(\"dimer_observations.dat\",\"r\"))\n",
      "x=archivo[:,0]\n",
      "Pobs=archivo[:,1]\n",
      "print size(x),\"\\n\",size(Pobs),\"\\n\",Pobs"
     ],
     "language": "python",
     "metadata": {},
     "outputs": [],
     "prompt_number": "*"
    },
    {
     "cell_type": "code",
     "collapsed": false,
     "input": [
      "#se llena el el arreglo de las posiciones con las posicions correspondientes en el arreglo del tiempo\n",
      "#\n",
      "for i in range(size(x)):\n",
      "    posiciones=append(posiciones,(x[i])/h-1)\n",
      "print posiciones,t[posiciones[-1]]"
     ],
     "language": "python",
     "metadata": {},
     "outputs": [],
     "prompt_number": "*"
    },
    {
     "cell_type": "code",
     "collapsed": false,
     "input": [
      "#arreglo solucion\n",
      "P=[]\n",
      "#se inician los arreglos con numeros random, arreglar, que sea cualquier numero\n",
      "\n",
      "alpha=append(alpha,random.random())\n",
      "beta=append(beta,random.random())\n",
      "So=append(So,random.random())\n",
      "Km1=append(Km1,random.random())\n",
      "Km2=append(Km2,random.random())\n",
      "print alpha,beta,So,Km1,Km2"
     ],
     "language": "python",
     "metadata": {},
     "outputs": [],
     "prompt_number": "*"
    },
    {
     "cell_type": "code",
     "collapsed": false,
     "input": [
      "#arreglo que se llenara con el P solucion\n",
      "P=np.zeros([Tmax,1],dtype=float)\n",
      "Pviejo=np.zeros([Tmax,1],dtype=float)\n",
      "    \n",
      "#arreglo que toma los valores solucion en las posiciones conocidas por observacion\n",
      "Pteo=np.zeros([size(Pobs),1],dtype=float)\n",
      "Pteoviejo=np.zeros([size(Pobs),1],dtype=float)\n",
      "#se llena el primer punto con \n",
      "P[0]=random.random()\n",
      "Pviejo[0]=P[0]\n",
      "print P"
     ],
     "language": "python",
     "metadata": {},
     "outputs": [],
     "prompt_number": "*"
    },
    {
     "cell_type": "code",
     "collapsed": false,
     "input": [
      "for j in range(1,Tmax):\n",
      "    #se soluciona P con los valores aleatorios\n",
      "    sol=rungekutta(Pviejo[j-1],h,alpha[0],beta[0],Km1[0],Km2[0],So[0]) \n",
      "    Pviejo[j]=sol"
     ],
     "language": "python",
     "metadata": {},
     "outputs": [],
     "prompt_number": "*"
    },
    {
     "cell_type": "code",
     "collapsed": false,
     "input": [
      "#se comienza la busqueda de constantes\n",
      "for i in range(iteraciones):\n",
      "    \n",
      "    #se dan valores aleatorios\n",
      "    alp=random.random()\n",
      "    bet=random.random()\n",
      "    so=random.random()\n",
      "    km1=random.random()\n",
      "    km2=random.random()\n",
      "        \n",
      "    for j in range(1,Tmax):\n",
      "    #se soluciona P con los valores aleatorios\n",
      "        sol=rungekutta(P[j-1],h,alp,bet,km1,km2,so)  \n",
      "        P[j]=sol\n",
      "       \n",
      "    #se toman los valores de P(t) conocidos por el tiempo\n",
      "    \n",
      "    for k in range(size(x)):\n",
      "        Pteo=P[posiciones[k]]\n",
      "        Pteoviejo=Pviejo[posiciones[k]]\n",
      "        \n",
      "    #se halla \n",
      "    a=likelihood(Pteo,Pobs)#nuevo\n",
      "    b=likelihood(Pteoviejo,Pobs)#viejo\n",
      "    c=random.random()\n",
      "    d=a/b\n",
      "    \n",
      "    if(d>=1):\n",
      "        alpha=append(alpha,alp)\n",
      "        beta=append(beta,bet)\n",
      "        Km1=append(Km1,km1)\n",
      "        Km2=append(Km2,km2)\n",
      "        So=append(So,so)\n",
      "    if(d<1):\n",
      "        if(beta>d):\n",
      "            \n",
      "            \n",
      "            \n",
      "    Pviejo=P.copy()\n",
      "    \n",
      "    \n",
      "    \n",
      "    \n",
      "        \n",
      "    "
     ],
     "language": "python",
     "metadata": {},
     "outputs": [],
     "prompt_number": "*"
    },
    {
     "cell_type": "code",
     "collapsed": false,
     "input": [],
     "language": "python",
     "metadata": {},
     "outputs": [],
     "prompt_number": 26
    },
    {
     "cell_type": "code",
     "collapsed": false,
     "input": [],
     "language": "python",
     "metadata": {},
     "outputs": [],
     "prompt_number": 26
    },
    {
     "cell_type": "code",
     "collapsed": false,
     "input": [],
     "language": "python",
     "metadata": {},
     "outputs": []
    }
   ],
   "metadata": {}
  }
 ]
}