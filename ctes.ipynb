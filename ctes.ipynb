{
 "metadata": {
  "name": "ctes"
 },
 "nbformat": 3,
 "nbformat_minor": 0,
 "worksheets": [
  {
   "cells": [
    {
     "cell_type": "code",
     "collapsed": false,
     "input": [
      "%pylab inline "
     ],
     "language": "python",
     "metadata": {},
     "outputs": [
      {
       "output_type": "stream",
       "stream": "stdout",
       "text": [
        "\n",
        "Welcome to pylab, a matplotlib-based Python environment [backend: module://IPython.zmq.pylab.backend_inline].\n",
        "For more information, type 'help(pylab)'.\n"
       ]
      }
     ],
     "prompt_number": 114
    },
    {
     "cell_type": "heading",
     "level": 3,
     "metadata": {},
     "source": [
      "Definimos las funciones"
     ]
    },
    {
     "cell_type": "code",
     "collapsed": false,
     "input": [
      "def Pprime(p,Pp):\n",
      "    \n",
      "    return Pp\n",
      "\n",
      "\n",
      "def Pdouble(P,Pp,alpha, beta,Km1,Km2,So):\n",
      "    a= alpha*(So-P)/(Km1+So-P) - beta*P/(Km2+P)\n",
      "    return a"
     ],
     "language": "python",
     "metadata": {},
     "outputs": [],
     "prompt_number": 115
    },
    {
     "cell_type": "code",
     "collapsed": false,
     "input": [
      "def rungekutta(P,Pp,salto,alpha,beta,Km1,Km2,So):\n",
      "    \n",
      "    solucion=np.empty(2)\n",
      "    \n",
      "    h=salto\n",
      "    \n",
      "    k1 = Pprime(p,Pp)\n",
      "    l1 = Pdouble(p,Pp,alpha,beta,Km1,Km2,So)\n",
      "    \n",
      "    #first step\n",
      "    \n",
      "    P1 = P + (h/2.0) * k1\n",
      "    Pp1 = Pp + (h/2.0) * l1\n",
      "    \n",
      "    k2 = Pprime(P1, Pp1)\n",
      "    l2 = Pdouble(P1,Pp1,alpha,beta,Km1,Km2,So)\n",
      "    \n",
      "    #second step\n",
      "    \n",
      "    P2 = P+ (h/2.0) * k2\n",
      "    Pp2= Pp+ (h/2.0) * l2\n",
      "    \n",
      "    k3 = Pprime(P2, Pp2)\n",
      "    l3 = Pdouble(P2,Pp2,alpha,beta,Km1,Km2,So)\n",
      "    \n",
      "    #third step\n",
      "    P3 = P + h * k3\n",
      "    Pp3 = Pp + h * l3\n",
      "    \n",
      "    k4 = Pprime(P3, Pp3)\n",
      "    l4 = Pdouble(P3,Pp3,alpha,beta,Km1,Km2,So)\n",
      "    \n",
      "    #fourth step\n",
      "    average_k = (1.0/6.0)*(k1 + 2.0*k2 + 2.0*k3 + k4)\n",
      "    average_l = (1.0/6.0)*(l1 + 2.0*l2 + 2.0*l3 + l4)\n",
      "    \n",
      "    solucion[0] = P+ h * average_k \n",
      "    solucion[1] = Pp+ h * average_l\n",
      "    \n",
      "    return solucion\n",
      "\n"
     ],
     "language": "python",
     "metadata": {},
     "outputs": [],
     "prompt_number": 116
    },
    {
     "cell_type": "code",
     "collapsed": false,
     "input": [
      "def likelihood(p_obs, p_model):\n",
      "    \n",
      "    chi_squared = sum((p_obs-p_model)**2)\n",
      "    \n",
      "    return exp(-chi_squared)\n",
      "    "
     ],
     "language": "python",
     "metadata": {},
     "outputs": [],
     "prompt_number": 117
    },
    {
     "cell_type": "heading",
     "level": 3,
     "metadata": {},
     "source": [
      "Definimos las constantes y arreglos que seran usados"
     ]
    },
    {
     "cell_type": "code",
     "collapsed": false,
     "input": [
      "posiciones=[]\n",
      "t=[]\n",
      "\n",
      "Tmax=30000\n",
      "numConst=5\n",
      "iteraciones=20000\n",
      "h=0.001\n",
      "\n",
      "\n",
      "#arreglo de las constantes\n",
      "\n",
      "alpha=[]\n",
      "beta=[]\n",
      "Km1=[]\n",
      "Km2=[]\n",
      "So=[]"
     ],
     "language": "python",
     "metadata": {},
     "outputs": [],
     "prompt_number": 118
    },
    {
     "cell_type": "code",
     "collapsed": false,
     "input": [
      "for i in range(Tmax):\n",
      "    t=append(t,(i+1)*h)\n",
      "print size(t)"
     ],
     "language": "python",
     "metadata": {},
     "outputs": [
      {
       "output_type": "stream",
       "stream": "stdout",
       "text": [
        "30000\n"
       ]
      }
     ],
     "prompt_number": 119
    },
    {
     "cell_type": "code",
     "collapsed": false,
     "input": [
      "archivo=np.loadtxt(open(\"dimer_observations.dat\",\"r\"))\n",
      "x=archivo[:,0]\n",
      "print size(x)"
     ],
     "language": "python",
     "metadata": {},
     "outputs": [
      {
       "output_type": "stream",
       "stream": "stdout",
       "text": [
        "19\n"
       ]
      }
     ],
     "prompt_number": 120
    },
    {
     "cell_type": "code",
     "collapsed": false,
     "input": [
      "for i in range(size(x)):\n",
      "    posiciones=append(posiciones,(x[i])/h-1)\n"
     ],
     "language": "python",
     "metadata": {},
     "outputs": [],
     "prompt_number": 121
    },
    {
     "cell_type": "code",
     "collapsed": false,
     "input": [
      "for i in range(iteraciones):\n",
      "    a\n",
      "    "
     ],
     "language": "python",
     "metadata": {},
     "outputs": [],
     "prompt_number": 123
    },
    {
     "cell_type": "code",
     "collapsed": false,
     "input": [],
     "language": "python",
     "metadata": {},
     "outputs": [],
     "prompt_number": 113
    },
    {
     "cell_type": "code",
     "collapsed": false,
     "input": [],
     "language": "python",
     "metadata": {},
     "outputs": []
    }
   ],
   "metadata": {}
  }
 ]
}