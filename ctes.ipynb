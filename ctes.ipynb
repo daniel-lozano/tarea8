{
 "metadata": {
  "name": "ctes"
 },
 "nbformat": 3,
 "nbformat_minor": 0,
 "worksheets": [
  {
   "cells": [
    {
     "cell_type": "code",
     "collapsed": false,
     "input": [
      "%pylab inline "
     ],
     "language": "python",
     "metadata": {},
     "outputs": [
      {
       "output_type": "stream",
       "stream": "stdout",
       "text": [
        "\n",
        "Welcome to pylab, a matplotlib-based Python environment [backend: module://IPython.zmq.pylab.backend_inline].\n",
        "For more information, type 'help(pylab)'.\n"
       ]
      }
     ],
     "prompt_number": 79
    },
    {
     "cell_type": "heading",
     "level": 3,
     "metadata": {},
     "source": [
      "Definimos las funciones"
     ]
    },
    {
     "cell_type": "code",
     "collapsed": false,
     "input": [
      "#derivadas de la ecuacion\n",
      "def Pdouble(P,alpha, beta,Km1,Km2,So):\n",
      "    a= alpha*(So-P)/(Km1+So-P) - beta*P/(Km2+P)\n",
      "    return a"
     ],
     "language": "python",
     "metadata": {},
     "outputs": [],
     "prompt_number": 80
    },
    {
     "cell_type": "code",
     "collapsed": false,
     "input": [
      "#metodo rungekutta para resolver la ecuacion diferencial y obtener P\n",
      "\n",
      "\n",
      "def rungekutta(P,salto,alpha,beta,Km1,Km2,So):\n",
      "      \n",
      "    h=salto\n",
      "    \n",
      "    l1 = Pdouble(p,alpha,beta,Km1,Km2,So)\n",
      "    \n",
      "    #first step\n",
      "    \n",
      "    P1 = P + (h/2.0) * l1\n",
      "    \n",
      "    l2 = Pdouble(P1,alpha,beta,Km1,Km2,So)\n",
      "    \n",
      "    #second step\n",
      "    \n",
      "    P2= P+ (h/2.0) * l2\n",
      "\n",
      "    l3 = Pdouble(P2,alpha,beta,Km1,Km2,So)\n",
      "    \n",
      "    #third step\n",
      "    \n",
      "    P3 = P + h * l3\n",
      "\n",
      "    l4 = Pdouble(P3,alpha,beta,Km1,Km2,So)\n",
      "    \n",
      "    #fourth step\n",
      "    average_l = (1.0/6.0)*(l1 + 2.0*l2 + 2.0*l3 + l4)\n",
      "    \n",
      "    solucion = P+ h * average_l\n",
      "    \n",
      "    return solucion\n",
      "\n"
     ],
     "language": "python",
     "metadata": {},
     "outputs": [],
     "prompt_number": 81
    },
    {
     "cell_type": "code",
     "collapsed": false,
     "input": [
      "#funcion para calcular la verosimilitud\n",
      "\n",
      "def likelihood(p_obs, p_model):\n",
      "    \n",
      "    chi_squared = sum((p_obs-p_model)**2)\n",
      "    \n",
      "    return exp(-chi_squared)\n",
      "    "
     ],
     "language": "python",
     "metadata": {},
     "outputs": [],
     "prompt_number": 82
    },
    {
     "cell_type": "heading",
     "level": 3,
     "metadata": {},
     "source": [
      "Definimos las constantes y arreglos que seran usados"
     ]
    },
    {
     "cell_type": "code",
     "collapsed": false,
     "input": [
      "#arreglo que representa el tiempo de medicion y las posiciones conocidas dadas por observaciones hechas\n",
      "posiciones=[]\n",
      "t=[]\n",
      "\n",
      "#tiempo total, numero de constantes a trabajar, iteraciones que se  haran para hallar las constantes, paso\n",
      "Tmax=30000\n",
      "numConst=5\n",
      "iteraciones=20000\n",
      "h=0.001\n",
      "\n",
      "\n",
      "#arreglo de las constantes\n",
      "\n",
      "alpha=[]\n",
      "beta=[]\n",
      "Km1=[]\n",
      "Km2=[]\n",
      "So=[]"
     ],
     "language": "python",
     "metadata": {},
     "outputs": [],
     "prompt_number": 83
    },
    {
     "cell_type": "code",
     "collapsed": false,
     "input": [
      "#se llena el arreglo del tiempo\n",
      "for i in range(Tmax):\n",
      "    t=append(t,(i+1)*h)\n",
      "print size(t),t[-1]"
     ],
     "language": "python",
     "metadata": {},
     "outputs": [
      {
       "output_type": "stream",
       "stream": "stdout",
       "text": [
        "30000 30.0\n"
       ]
      }
     ],
     "prompt_number": 84
    },
    {
     "cell_type": "code",
     "collapsed": false,
     "input": [
      "#se toman las posiciones originales donde hay mediciones\n",
      "archivo=np.loadtxt(open(\"dimer_observations.dat\",\"r\"))\n",
      "x=archivo[:,0]\n",
      "Pobs=archivo[:,1]\n",
      "print size(x),\"\\n\",size(Pobs),\"\\n\",Pobs"
     ],
     "language": "python",
     "metadata": {},
     "outputs": [
      {
       "output_type": "stream",
       "stream": "stdout",
       "text": [
        "19 \n",
        "19 \n",
        "[ 12.   21.   26.   34.   33.   30.   28.   26.   25.   23.   22.   21.\n",
        "  20.5  20.5  20.   19.   18.5  18.   17.7]\n"
       ]
      }
     ],
     "prompt_number": 85
    },
    {
     "cell_type": "code",
     "collapsed": false,
     "input": [
      "#se llena el el arreglo de las posiciones con las posicions correspondientes en el arreglo del tiempo\n",
      "#\n",
      "for i in range(size(x)):\n",
      "    posiciones=append(posiciones,(x[i])/h-1)\n",
      "print posiciones,t[posiciones[-1]]"
     ],
     "language": "python",
     "metadata": {},
     "outputs": [
      {
       "output_type": "stream",
       "stream": "stdout",
       "text": [
        "[  1999.   2499.   3499.   4999.   5999.   6999.   7999.   9999.  10999.\n",
        "  11999.  12499.  14999.  15999.  17499.  19999.  20999.  22499.  24999.\n",
        "  29999.] 30.0\n"
       ]
      }
     ],
     "prompt_number": 86
    },
    {
     "cell_type": "code",
     "collapsed": false,
     "input": [
      "#arreglo solucion\n",
      "P=[]\n",
      "#se inician los arreglos con numeros random, arreglar, que sea cualquier numero\n",
      "\n",
      "alpha=append(alpha,random.random())\n",
      "beta=append(beta,random.random())\n",
      "So=append(So,random.random())\n",
      "Km1=append(Km1,random.random())\n",
      "Km2=append(Km2,random.random())\n",
      "print alpha,beta,So,Km1,Km2"
     ],
     "language": "python",
     "metadata": {},
     "outputs": [
      {
       "output_type": "stream",
       "stream": "stdout",
       "text": [
        "[ 0.43970878] [ 0.1096726] [ 0.28388818] [ 0.34560713] [ 0.41323857]\n"
       ]
      }
     ],
     "prompt_number": 25
    },
    {
     "cell_type": "code",
     "collapsed": false,
     "input": [
      "#arreglo que se llenara con el P solucion\n",
      "P=np.zeros([Tmax,1],dtype=float)\n",
      "\n",
      "#arreglo que toma los valores solucion en las posiciones conocidas por observacion\n",
      "Pteo=np.zeros([size(Pobs),1],dtype=float)\n",
      "\n",
      "#se llena el primer punto con \n",
      "P[0]=random.random()\n",
      "print P"
     ],
     "language": "python",
     "metadata": {},
     "outputs": [
      {
       "output_type": "stream",
       "stream": "stdout",
       "text": [
        "[[ 0.17527361]\n",
        " [ 0.        ]\n",
        " [ 0.        ]\n",
        " ..., \n",
        " [ 0.        ]\n",
        " [ 0.        ]\n",
        " [ 0.        ]]\n"
       ]
      }
     ],
     "prompt_number": 87
    },
    {
     "cell_type": "code",
     "collapsed": false,
     "input": [
      "#se comienza la busqueda de constantes\n",
      "for i in range(1,iteraciones):\n",
      "  \n",
      "    alp=random.random()\n",
      "    bet=random.random()\n",
      "    so=random.random()\n",
      "    km1=random.random()\n",
      "    km2=random.random()\n",
      "        \n",
      "    for j in range(1,Tmax):\n",
      "        \n",
      "        sol=rungekutta(P[j-1],h,alp,bet,km1,km2,so)  \n",
      "        P[j]=sol\n",
      "   \n",
      "        \n",
      "    for k in range(size(x)):\n",
      "        Pteo=P[posiciones[k]]\n",
      "    \n",
      "    likelihood(Pteo,Pobs)\n",
      "        \n",
      "        \n",
      "        \n",
      "    "
     ],
     "language": "python",
     "metadata": {},
     "outputs": [
      {
       "ename": "TypeError",
       "evalue": "rungekutta() takes exactly 8 arguments (0 given)",
       "output_type": "pyerr",
       "traceback": [
        "\u001b[0;31m---------------------------------------------------------------------------\u001b[0m\n\u001b[0;31mTypeError\u001b[0m                                 Traceback (most recent call last)",
        "\u001b[0;32m<ipython-input-65-4466bd303fc0>\u001b[0m in \u001b[0;36m<module>\u001b[0;34m()\u001b[0m\n\u001b[1;32m     12\u001b[0m \u001b[0;34m\u001b[0m\u001b[0m\n\u001b[1;32m     13\u001b[0m     \u001b[0;32mfor\u001b[0m \u001b[0mj\u001b[0m \u001b[0;32min\u001b[0m \u001b[0mrange\u001b[0m\u001b[0;34m(\u001b[0m\u001b[0;36m1\u001b[0m\u001b[0;34m,\u001b[0m\u001b[0mTmax\u001b[0m\u001b[0;34m)\u001b[0m\u001b[0;34m:\u001b[0m\u001b[0;34m\u001b[0m\u001b[0m\n\u001b[0;32m---> 14\u001b[0;31m         \u001b[0msol\u001b[0m\u001b[0;34m=\u001b[0m\u001b[0mrungekutta\u001b[0m\u001b[0;34m(\u001b[0m\u001b[0;34m)\u001b[0m\u001b[0;34m\u001b[0m\u001b[0m\n\u001b[0m\u001b[1;32m     15\u001b[0m         \u001b[0mP\u001b[0m\u001b[0;34m=\u001b[0m\u001b[0mappend\u001b[0m\u001b[0;34m(\u001b[0m\u001b[0mP\u001b[0m\u001b[0;34m,\u001b[0m\u001b[0msol\u001b[0m\u001b[0;34m[\u001b[0m\u001b[0;36m0\u001b[0m\u001b[0;34m]\u001b[0m\u001b[0;34m)\u001b[0m\u001b[0;34m\u001b[0m\u001b[0m\n\u001b[1;32m     16\u001b[0m \u001b[0;34m\u001b[0m\u001b[0m\n",
        "\u001b[0;31mTypeError\u001b[0m: rungekutta() takes exactly 8 arguments (0 given)"
       ]
      }
     ],
     "prompt_number": 65
    },
    {
     "cell_type": "code",
     "collapsed": false,
     "input": [],
     "language": "python",
     "metadata": {},
     "outputs": [],
     "prompt_number": 26
    },
    {
     "cell_type": "code",
     "collapsed": false,
     "input": [],
     "language": "python",
     "metadata": {},
     "outputs": [],
     "prompt_number": 26
    },
    {
     "cell_type": "code",
     "collapsed": false,
     "input": [],
     "language": "python",
     "metadata": {},
     "outputs": []
    }
   ],
   "metadata": {}
  }
 ]
}