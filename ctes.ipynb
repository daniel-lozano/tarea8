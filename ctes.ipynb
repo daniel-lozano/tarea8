{
 "metadata": {
  "name": "ctes"
 },
 "nbformat": 3,
 "nbformat_minor": 0,
 "worksheets": [
  {
   "cells": [
    {
     "cell_type": "code",
     "collapsed": false,
     "input": [
      "%pylab inline "
     ],
     "language": "python",
     "metadata": {},
     "outputs": [
      {
       "output_type": "stream",
       "stream": "stdout",
       "text": [
        "\n",
        "Welcome to pylab, a matplotlib-based Python environment [backend: module://IPython.zmq.pylab.backend_inline].\n",
        "For more information, type 'help(pylab)'.\n"
       ]
      }
     ],
     "prompt_number": 170
    },
    {
     "cell_type": "heading",
     "level": 3,
     "metadata": {},
     "source": [
      "Definimos las funciones"
     ]
    },
    {
     "cell_type": "code",
     "collapsed": false,
     "input": [
      "#derivadas de la ecuacion\n",
      "def Pdouble(P1,alpha1, beta1,Km11,Km21,So1):\n",
      "    a= alpha1*(So1-P1)/(Km11+So1-P1) - beta1*P1/(Km21+P1)\n",
      "    return a"
     ],
     "language": "python",
     "metadata": {},
     "outputs": [],
     "prompt_number": 171
    },
    {
     "cell_type": "code",
     "collapsed": false,
     "input": [
      "#metodo rungekutta para resolver la ecuacion diferencial y obtener P\n",
      "\n",
      "\n",
      "def rungekutta(P0,salto1,alpha1,beta1,Km11,Km21,So1):\n",
      "      \n",
      "    h=salto1\n",
      "    \n",
      "    l1 = Pdouble(P0,alpha1,beta1,Km11,Km21,So1)\n",
      "    \n",
      "    #first step\n",
      "    \n",
      "    P1 = P0 + (h/2.0) * l1\n",
      "    \n",
      "    l2 = Pdouble(P1,alpha1,beta1,Km11,Km21,So1)\n",
      "    \n",
      "    #second step\n",
      "    \n",
      "    P2= P0 + (h/2.0) * l2\n",
      "\n",
      "    l3 = Pdouble(P2,alpha1,beta1,Km11,Km21,So1)\n",
      "    \n",
      "    #third step\n",
      "    \n",
      "    P3 = P0 + h * l3\n",
      "\n",
      "    l4 = Pdouble(P3,alpha1,beta1,Km11,Km21,So1)\n",
      "    \n",
      "    #fourth step\n",
      "    average_l = (1.0/6.0)*(l1 + 2.0*l2 + 2.0*l3 + l4)\n",
      "    \n",
      "    solucion = P0+ h * average_l\n",
      "    \n",
      "    return solucion\n",
      "\n"
     ],
     "language": "python",
     "metadata": {},
     "outputs": [],
     "prompt_number": 172
    },
    {
     "cell_type": "code",
     "collapsed": false,
     "input": [
      "#funcion para calcular la verosimilitud\n",
      "\n",
      "def likelihood(p_obs, p_model):\n",
      "    \n",
      "    chi_squared = sum((p_obs-p_model)**2)\n",
      "    \n",
      "    return chi_squared\n",
      "    "
     ],
     "language": "python",
     "metadata": {},
     "outputs": [],
     "prompt_number": 173
    },
    {
     "cell_type": "heading",
     "level": 3,
     "metadata": {},
     "source": [
      "Definimos las constantes y arreglos que seran usados"
     ]
    },
    {
     "cell_type": "code",
     "collapsed": false,
     "input": [
      "#arreglo que representa el tiempo de medicion y las posiciones conocidas dadas por observaciones hechas\n",
      "posiciones=[]\n",
      "t=[]\n",
      "\n",
      "#tiempo total, numero de constantes a trabajar, iteraciones que se  haran para hallar las constantes, paso\n",
      "Tmax=5000\n",
      "numConst=5\n",
      "h=0.01\n",
      "\n",
      "\n",
      "#arreglo de las constantes\n",
      "\n",
      "alpha=np.empty(0)\n",
      "beta=np.empty(0)\n",
      "Km1=np.empty(0)\n",
      "Km2=np.empty(0)\n",
      "So=np.empty(0)\n",
      "d=h*Tmax\n",
      "\n",
      "print type(alpha)\n"
     ],
     "language": "python",
     "metadata": {},
     "outputs": [
      {
       "output_type": "stream",
       "stream": "stdout",
       "text": [
        "<type 'numpy.ndarray'>\n"
       ]
      }
     ],
     "prompt_number": 174
    },
    {
     "cell_type": "code",
     "collapsed": false,
     "input": [
      "#se llena el arreglo del tiempo\n",
      "for i in range(Tmax):\n",
      "    t=append(t,(i+1)*h)\n",
      "print size(t),t[-1]"
     ],
     "language": "python",
     "metadata": {},
     "outputs": [
      {
       "output_type": "stream",
       "stream": "stdout",
       "text": [
        "5000 50.0\n"
       ]
      }
     ],
     "prompt_number": 175
    },
    {
     "cell_type": "code",
     "collapsed": false,
     "input": [
      "#se toman las posiciones originales donde hay mediciones\n",
      "archivo=np.loadtxt(open(\"dimer_observations.dat\",\"r\"))\n",
      "x=archivo[:,0]\n",
      "Pobs=archivo[:,1]\n",
      "print size(x),\"\\n\",size(Pobs),\"\\n\",Pobs"
     ],
     "language": "python",
     "metadata": {},
     "outputs": [
      {
       "output_type": "stream",
       "stream": "stdout",
       "text": [
        "19 \n",
        "19 \n",
        "[ 12.   21.   26.   34.   33.   30.   28.   26.   25.   23.   22.   21.\n",
        "  20.5  20.5  20.   19.   18.5  18.   17.7]\n"
       ]
      }
     ],
     "prompt_number": 176
    },
    {
     "cell_type": "code",
     "collapsed": false,
     "input": [
      "#se llena el el arreglo de las posiciones con las posicions correspondientes en el arreglo del tiempo\n",
      "#\n",
      "for i in range(size(x)):\n",
      "    posiciones=append(posiciones,(x[i])/h-1)\n",
      "print posiciones,t[posiciones[-1]]"
     ],
     "language": "python",
     "metadata": {},
     "outputs": [
      {
       "output_type": "stream",
       "stream": "stdout",
       "text": [
        "[  199.   249.   349.   499.   599.   699.   799.   999.  1099.  1199.\n",
        "  1249.  1499.  1599.  1749.  1999.  2099.  2249.  2499.  2999.] 30.0\n"
       ]
      }
     ],
     "prompt_number": 177
    },
    {
     "cell_type": "code",
     "collapsed": false,
     "input": [
      "#arreglo solucion\n",
      "P=[]\n",
      "#se inician los arreglos con numeros random, arreglar, que sea cualquier numero\n",
      "\n",
      "#alpha=append(alpha,random.random())\n",
      "#beta=append(beta,random.random())\n",
      "#So=append(So,random.random())\n",
      "#Km1=append(Km1,random.random())\n",
      "#Km2=append(Km2,random.random())\n",
      "alpha=append(alpha,14.3102)\n",
      "beta=append(beta,23.3790)\n",
      "Km1=append(Km1,14.2357)\n",
      "Km2=append(Km2,23.9278)\n",
      "So=append(So,20.3265)\n",
      "print alpha,beta,So,Km1,Km2\n"
     ],
     "language": "python",
     "metadata": {},
     "outputs": [
      {
       "output_type": "stream",
       "stream": "stdout",
       "text": [
        "[ 14.3102] [ 23.379] [ 20.3265] [ 14.2357] [ 23.9278]\n"
       ]
      }
     ],
     "prompt_number": 178
    },
    {
     "cell_type": "code",
     "collapsed": false,
     "input": [
      "#arreglo que se llenara con el P solucion\n",
      "P=np.zeros(Tmax)\n",
      "Pviejo=np.zeros(Tmax)\n",
      "    \n",
      "#arreglo que toma los valores solucion en las posiciones conocidas por observacion\n",
      "Pteo=np.zeros(size(Pobs))\n",
      "Pteoviejo=np.zeros(size(Pobs))\n",
      "#se llena el primer punto con \n",
      "P[0]=0\n",
      "Pviejo[0]=P[0]\n",
      "print P"
     ],
     "language": "python",
     "metadata": {},
     "outputs": [
      {
       "output_type": "stream",
       "stream": "stdout",
       "text": [
        "[ 0.  0.  0. ...,  0.  0.  0.]\n"
       ]
      }
     ],
     "prompt_number": 179
    },
    {
     "cell_type": "code",
     "collapsed": false,
     "input": [
      "for j in range(1,Tmax):\n",
      "    #se soluciona P con los valores aleatorios\n",
      "    #sol=rungekutta(Pviejo[j-1],h,alpha[0],beta[0],Km1[0],Km2[0],So[0]) \n",
      "    sol=rungekutta(Pviejo[j-1],h,14.3102,23.3790,14.2357,23.9278,20.3265)\n",
      "    Pviejo[j]=sol\n",
      "plot(t,Pviejo)    \n",
      "scatter(x,Pobs)"
     ],
     "language": "python",
     "metadata": {},
     "outputs": [
      {
       "output_type": "pyout",
       "prompt_number": 188,
       "text": [
        "<matplotlib.collections.PathCollection at 0x8fbcf90>"
       ]
      },
      {
       "output_type": "display_data",
       "png": "[encoded data removed]"
      }
     ],
     "prompt_number": 188
    },
    {
     "cell_type": "code",
     "collapsed": false,
     "input": [
      "iteraciones=2000\n",
      "x2=empty(0)\n",
      "print x2"
     ],
     "language": "python",
     "metadata": {},
     "outputs": [
      {
       "output_type": "stream",
       "stream": "stdout",
       "text": [
        "[]\n"
       ]
      }
     ],
     "prompt_number": 181
    },
    {
     "cell_type": "code",
     "collapsed": false,
     "input": [
      "#se comienza la busqueda de constantes\n",
      "for i in range(1,iteraciones):\n",
      "    #print \"i=\",i \n",
      "    #print \"longitud: \", len(alpha)\n",
      "    #se dan valores aleatorios\n",
      "    alp=random.normal(alpha[i-1],0.1)\n",
      "    bet=random.normal(beta[i-1],0.1)\n",
      "    so=random.normal(So[i-1],0.1)\n",
      "    km1=random.normal(Km1[i-1],0.1)\n",
      "    km2=random.normal(Km2[i-1],0.1)\n",
      "        \n",
      "    for j in range(1,Tmax):\n",
      "        #se soluciona P con los valores aleatorios\n",
      "        sol=rungekutta(P[j-1],h,alp,bet,km1,km2,so)  \n",
      "        P[j]=sol\n",
      "       \n",
      "    #se toman los valores de P(t) conocidos por el tiempo\n",
      "    \n",
      "    for k in range(size(x)):\n",
      "        Pteo[k]=P[posiciones[k]]\n",
      "        Pteoviejo[k]=Pviejo[posiciones[k]]\n",
      "        \n",
      "    #se halla \n",
      "    a=likelihood(Pteo,Pobs)#nuevo\n",
      "    #concatena el primer dato\n",
      "    if(i==1):\n",
      "        x2=append(x2,b)\n",
      "        \n",
      "    x2=append(x2,a)\n",
      "    b=likelihood(Pteoviejo,Pobs)#viejo\n",
      "    c=random.random()#numero random\n",
      "    incremento=a-b\n",
      "    d=exp(a-b)#razon de verosimilitud\n",
      "    \n",
      "    #print a, b, c, d\n",
      "    \n",
      "    if(incremento<=0):\n",
      "        #print \"d>1\"\n",
      "        alpha=append(alpha,alp)\n",
      "        beta=append(beta,bet)\n",
      "        Km1=append(Km1,km1)\n",
      "        Km2=append(Km2,km2)\n",
      "        So=append(So,so)\n",
      "        \n",
      "    elif(incremento>0):\n",
      "        if(c>=d):\n",
      "            #print \"c>d\"\n",
      "            alpha=append(alpha,alp)\n",
      "            beta=append(beta,bet)\n",
      "            Km1=append(Km1,km1)\n",
      "            Km2=append(Km2,km2)\n",
      "            So=append(So,so)\n",
      "        else:\n",
      "            #print\"c<d\"\n",
      "            alpha=append(alpha,alpha[i-1])\n",
      "            beta=append(beta,beta[i-1])\n",
      "            Km1=append(Km1,Km1[i-1])\n",
      "            Km2=append(Km2,Km2[i-1])\n",
      "            So=append(So,So[i-1])\n",
      "            \n",
      "    #else:\n",
      "        #print \"no hice nada\"\n",
      "            \n",
      "    Pviejo=P.copy()\n",
      " \n",
      "    \n",
      "    \n",
      "    \n",
      "        \n",
      "    "
     ],
     "language": "python",
     "metadata": {},
     "outputs": [],
     "prompt_number": 182
    },
    {
     "cell_type": "code",
     "collapsed": false,
     "input": [
      "print alpha[0],alpha[-1], \"\\n\"\n",
      "print beta[0],beta[-1], \"\\n\"\n",
      "print Km1[0],Km1[-1], \"\\n\"\n",
      "print Km2[0],Km2[-1], \"\\n\"\n",
      "print So[0],So[-1], \"\\n\""
     ],
     "language": "python",
     "metadata": {},
     "outputs": [
      {
       "output_type": "stream",
       "stream": "stdout",
       "text": [
        "14.3102 10.4230347009 \n",
        "\n",
        "23.379 18.4113636376 \n",
        "\n",
        "14.2357 0.320993833024 \n",
        "\n",
        "23.9278 29.3115461157 \n",
        "\n",
        "20.3265 25.2092501495 \n",
        "\n"
       ]
      }
     ],
     "prompt_number": 189
    },
    {
     "cell_type": "code",
     "collapsed": false,
     "input": [
      "alphafin=sum(alpha)/size(alpha)\n",
      "betafin=sum(beta)/size(beta)\n",
      "Km1fin=sum(Km1)/size(Km1)\n",
      "Km2fin=sum(Km2)/size(Km2)\n",
      "Sofin=sum(So)/size(So)\n",
      "Pfinal=empty(0)\n",
      "Pfinal=append(Pfinal,P[0])\n",
      "for i in range(1,size(P)):\n",
      "    sol=rungekutta(Pfinal[i-1],h,alphafin,betafin,Km1fin,Km2fin,Sofin)\n",
      "    Pfinal=append(Pfinal,sol)\n",
      "plot(t,Pfinal)\n",
      "xlim"
     ],
     "language": "python",
     "metadata": {},
     "outputs": [
      {
       "output_type": "pyout",
       "prompt_number": 190,
       "text": [
        "<function matplotlib.pyplot.xlim>"
       ]
      },
      {
       "output_type": "display_data",
       "png": "[encoded data removed]"
      }
     ],
     "prompt_number": 190
    },
    {
     "cell_type": "code",
     "collapsed": false,
     "input": [
      "plot(x,Pobs, \"bo\")\n",
      "#plt.show()\n",
      "#plt.close()\n",
      "\n",
      "plot(t,Pfinal, \"g,\")\n"
     ],
     "language": "python",
     "metadata": {},
     "outputs": [
      {
       "output_type": "pyout",
       "prompt_number": 191,
       "text": [
        "[<matplotlib.lines.Line2D at 0x8ced190>]"
       ]
      },
      {
       "output_type": "display_data",
       "png": "[encoded data removed]"
      }
     ],
     "prompt_number": 191
    },
    {
     "cell_type": "code",
     "collapsed": false,
     "input": [
      "#chi2 minimo\n",
      "posicion=0\n",
      "chiminimo=min(x2)\n",
      "for i in range(size(x2)):\n",
      "    if( x2[i]==chiminimo):\n",
      "        pos=i\n",
      "print pos\n",
      "print chiminimo\n"
     ],
     "language": "python",
     "metadata": {},
     "outputs": [
      {
       "output_type": "stream",
       "stream": "stdout",
       "text": [
        "1858\n",
        "376.742695584\n"
       ]
      }
     ],
     "prompt_number": 192
    },
    {
     "cell_type": "code",
     "collapsed": false,
     "input": [
      "plot(x2,\"go\")\n",
      "plt.show()\n",
      "plt.close()\n",
      "scatter(alpha[1:],log10(x2))\n",
      "plot(alpha[-1],log10(x2[-1]),\"ro\")\n",
      "plot(alpha[1],log10(x2[0]),\"yo\")\n",
      "xlim(46,48)\n",
      "print size(alpha),size(x2)"
     ],
     "language": "python",
     "metadata": {},
     "outputs": [
      {
       "output_type": "display_data",
       "png": "[encoded data removed]"
      },
      {
       "ename": "ValueError",
       "evalue": "x and y must be the same size",
       "output_type": "pyerr",
       "traceback": [
        "\u001b[0;31m---------------------------------------------------------------------------\u001b[0m\n\u001b[0;31mValueError\u001b[0m                                Traceback (most recent call last)",
        "\u001b[0;32m<ipython-input-193-e5b6ca8e65ba>\u001b[0m in \u001b[0;36m<module>\u001b[0;34m()\u001b[0m\n\u001b[1;32m      2\u001b[0m \u001b[0mplt\u001b[0m\u001b[0;34m.\u001b[0m\u001b[0mshow\u001b[0m\u001b[0;34m(\u001b[0m\u001b[0;34m)\u001b[0m\u001b[0;34m\u001b[0m\u001b[0m\n\u001b[1;32m      3\u001b[0m \u001b[0mplt\u001b[0m\u001b[0;34m.\u001b[0m\u001b[0mclose\u001b[0m\u001b[0;34m(\u001b[0m\u001b[0;34m)\u001b[0m\u001b[0;34m\u001b[0m\u001b[0m\n\u001b[0;32m----> 4\u001b[0;31m \u001b[0mscatter\u001b[0m\u001b[0;34m(\u001b[0m\u001b[0malpha\u001b[0m\u001b[0;34m[\u001b[0m\u001b[0;36m1\u001b[0m\u001b[0;34m:\u001b[0m\u001b[0;34m]\u001b[0m\u001b[0;34m,\u001b[0m\u001b[0mlog10\u001b[0m\u001b[0;34m(\u001b[0m\u001b[0mx2\u001b[0m\u001b[0;34m)\u001b[0m\u001b[0;34m)\u001b[0m\u001b[0;34m\u001b[0m\u001b[0m\n\u001b[0m\u001b[1;32m      5\u001b[0m \u001b[0mplot\u001b[0m\u001b[0;34m(\u001b[0m\u001b[0malpha\u001b[0m\u001b[0;34m[\u001b[0m\u001b[0;34m-\u001b[0m\u001b[0;36m1\u001b[0m\u001b[0;34m]\u001b[0m\u001b[0;34m,\u001b[0m\u001b[0mlog10\u001b[0m\u001b[0;34m(\u001b[0m\u001b[0mx2\u001b[0m\u001b[0;34m[\u001b[0m\u001b[0;34m-\u001b[0m\u001b[0;36m1\u001b[0m\u001b[0;34m]\u001b[0m\u001b[0;34m)\u001b[0m\u001b[0;34m,\u001b[0m\u001b[0;34m\"ro\"\u001b[0m\u001b[0;34m)\u001b[0m\u001b[0;34m\u001b[0m\u001b[0m\n\u001b[1;32m      6\u001b[0m \u001b[0mplot\u001b[0m\u001b[0;34m(\u001b[0m\u001b[0malpha\u001b[0m\u001b[0;34m[\u001b[0m\u001b[0;36m1\u001b[0m\u001b[0;34m]\u001b[0m\u001b[0;34m,\u001b[0m\u001b[0mlog10\u001b[0m\u001b[0;34m(\u001b[0m\u001b[0mx2\u001b[0m\u001b[0;34m[\u001b[0m\u001b[0;36m0\u001b[0m\u001b[0;34m]\u001b[0m\u001b[0;34m)\u001b[0m\u001b[0;34m,\u001b[0m\u001b[0;34m\"yo\"\u001b[0m\u001b[0;34m)\u001b[0m\u001b[0;34m\u001b[0m\u001b[0m\n",
        "\u001b[0;32m/usr/lib/pymodules/python2.7/matplotlib/pyplot.pyc\u001b[0m in \u001b[0;36mscatter\u001b[0;34m(x, y, s, c, marker, cmap, norm, vmin, vmax, alpha, linewidths, faceted, verts, hold, **kwargs)\u001b[0m\n\u001b[1;32m   2555\u001b[0m         \u001b[0max\u001b[0m\u001b[0;34m.\u001b[0m\u001b[0mhold\u001b[0m\u001b[0;34m(\u001b[0m\u001b[0mhold\u001b[0m\u001b[0;34m)\u001b[0m\u001b[0;34m\u001b[0m\u001b[0m\n\u001b[1;32m   2556\u001b[0m     \u001b[0;32mtry\u001b[0m\u001b[0;34m:\u001b[0m\u001b[0;34m\u001b[0m\u001b[0m\n\u001b[0;32m-> 2557\u001b[0;31m         \u001b[0mret\u001b[0m \u001b[0;34m=\u001b[0m \u001b[0max\u001b[0m\u001b[0;34m.\u001b[0m\u001b[0mscatter\u001b[0m\u001b[0;34m(\u001b[0m\u001b[0mx\u001b[0m\u001b[0;34m,\u001b[0m \u001b[0my\u001b[0m\u001b[0;34m,\u001b[0m \u001b[0ms\u001b[0m\u001b[0;34m,\u001b[0m \u001b[0mc\u001b[0m\u001b[0;34m,\u001b[0m \u001b[0mmarker\u001b[0m\u001b[0;34m,\u001b[0m \u001b[0mcmap\u001b[0m\u001b[0;34m,\u001b[0m \u001b[0mnorm\u001b[0m\u001b[0;34m,\u001b[0m \u001b[0mvmin\u001b[0m\u001b[0;34m,\u001b[0m \u001b[0mvmax\u001b[0m\u001b[0;34m,\u001b[0m \u001b[0malpha\u001b[0m\u001b[0;34m,\u001b[0m \u001b[0mlinewidths\u001b[0m\u001b[0;34m,\u001b[0m \u001b[0mfaceted\u001b[0m\u001b[0;34m,\u001b[0m \u001b[0mverts\u001b[0m\u001b[0;34m,\u001b[0m \u001b[0;34m**\u001b[0m\u001b[0mkwargs\u001b[0m\u001b[0;34m)\u001b[0m\u001b[0;34m\u001b[0m\u001b[0m\n\u001b[0m\u001b[1;32m   2558\u001b[0m         \u001b[0mdraw_if_interactive\u001b[0m\u001b[0;34m(\u001b[0m\u001b[0;34m)\u001b[0m\u001b[0;34m\u001b[0m\u001b[0m\n\u001b[1;32m   2559\u001b[0m     \u001b[0;32mfinally\u001b[0m\u001b[0;34m:\u001b[0m\u001b[0;34m\u001b[0m\u001b[0m\n",
        "\u001b[0;32m/usr/lib/pymodules/python2.7/matplotlib/axes.pyc\u001b[0m in \u001b[0;36mscatter\u001b[0;34m(self, x, y, s, c, marker, cmap, norm, vmin, vmax, alpha, linewidths, faceted, verts, **kwargs)\u001b[0m\n\u001b[1;32m   5793\u001b[0m         \u001b[0my\u001b[0m \u001b[0;34m=\u001b[0m \u001b[0mnp\u001b[0m\u001b[0;34m.\u001b[0m\u001b[0mma\u001b[0m\u001b[0;34m.\u001b[0m\u001b[0mravel\u001b[0m\u001b[0;34m(\u001b[0m\u001b[0my\u001b[0m\u001b[0;34m)\u001b[0m\u001b[0;34m\u001b[0m\u001b[0m\n\u001b[1;32m   5794\u001b[0m         \u001b[0;32mif\u001b[0m \u001b[0mx\u001b[0m\u001b[0;34m.\u001b[0m\u001b[0msize\u001b[0m \u001b[0;34m!=\u001b[0m \u001b[0my\u001b[0m\u001b[0;34m.\u001b[0m\u001b[0msize\u001b[0m\u001b[0;34m:\u001b[0m\u001b[0;34m\u001b[0m\u001b[0m\n\u001b[0;32m-> 5795\u001b[0;31m             \u001b[0;32mraise\u001b[0m \u001b[0mValueError\u001b[0m\u001b[0;34m(\u001b[0m\u001b[0;34m\"x and y must be the same size\"\u001b[0m\u001b[0;34m)\u001b[0m\u001b[0;34m\u001b[0m\u001b[0m\n\u001b[0m\u001b[1;32m   5796\u001b[0m \u001b[0;34m\u001b[0m\u001b[0m\n\u001b[1;32m   5797\u001b[0m         \u001b[0ms\u001b[0m \u001b[0;34m=\u001b[0m \u001b[0mnp\u001b[0m\u001b[0;34m.\u001b[0m\u001b[0mma\u001b[0m\u001b[0;34m.\u001b[0m\u001b[0mravel\u001b[0m\u001b[0;34m(\u001b[0m\u001b[0ms\u001b[0m\u001b[0;34m)\u001b[0m  \u001b[0;31m# This doesn't have to match x, y in size.\u001b[0m\u001b[0;34m\u001b[0m\u001b[0m\n",
        "\u001b[0;31mValueError\u001b[0m: x and y must be the same size"
       ]
      },
      {
       "output_type": "display_data",
       "png": "[encoded data removed]"
      }
     ],
     "prompt_number": 193
    },
    {
     "cell_type": "code",
     "collapsed": false,
     "input": [
      "scatter(alpha,beta)\n",
      "plot(alpha,beta)\n",
      "plot(alpha[-1],beta[-1],\"ro\")\n",
      "plot(alpha[0],beta[0],\"go\")\n",
      "plt.show()\n",
      "plt.close()\n",
      "plot(beta)\n",
      "print(alpha[-1],beta[-1],Km1[-1],Km2[-1],So[-1])"
     ],
     "language": "python",
     "metadata": {},
     "outputs": []
    },
    {
     "cell_type": "heading",
     "level": 2,
     "metadata": {},
     "source": [
      "se grafica la funcion resultante con los ultimos valores obtenidos en las constantes"
     ]
    },
    {
     "cell_type": "code",
     "collapsed": false,
     "input": [
      "for j in range(1,Tmax):\n",
      "    #se soluciona P con los valores aleatorios\n",
      "    #sol=rungekutta(Pviejo[j-1],h,alpha[0],beta[0],Km1[0],Km2[0],So[0]) \n",
      "    sol=rungekutta(Pviejo[j-1],h,alpha[-1],beta[-1],Km1[-1],Km2[-1],So[-1]) \n",
      "    Pviejo[j]=sol\n",
      "plot(t,Pviejo)    \n",
      "plt.show()\n",
      "plt.close()\n",
      "scatter(x,Pobs)"
     ],
     "language": "python",
     "metadata": {},
     "outputs": []
    },
    {
     "cell_type": "heading",
     "level": 2,
     "metadata": {},
     "source": [
      "se obtienen los errores dados por el metodo MCMC"
     ]
    },
    {
     "cell_type": "code",
     "collapsed": false,
     "input": [
      "\n",
      "scatter(alpha,beta)\n",
      "plot(alpha[-1],beta[-1],\"ro\",label=\"final\")\n",
      "plot(alpha[0],beta[0],\"yo\",label=\"inicial\")\n",
      "legend()\n",
      "plt.show()\n",
      "plt.close()\n",
      "\n",
      "scatter(alpha,Km1)\n",
      "plot(alpha[-1],Km1[-1],\"ro\",label=\"final\")\n",
      "plot(alpha[0],Km1[0],\"yo\",label=\"inicial\")\n",
      "legend()\n",
      "plt.show()\n",
      "plt.close()\n",
      "\n",
      "scatter(alpha,Km2)\n",
      "plot(alpha[-1],Km2[-1],\"ro\",label=\"final\")\n",
      "plot(alpha[0],Km2[0],\"yo\",label=\"inicial\")\n",
      "legend()\n",
      "plt.show()\n",
      "plt.close()\n",
      "\n",
      "scatter(alpha,So)\n",
      "plot(alpha[-1],So[-1],\"ro\",label=\"final\")\n",
      "plot(alpha[0],So[0],\"yo\",label=\"inicial\")\n",
      "legend()"
     ],
     "language": "python",
     "metadata": {},
     "outputs": []
    },
    {
     "cell_type": "code",
     "collapsed": false,
     "input": [],
     "language": "python",
     "metadata": {},
     "outputs": [],
     "prompt_number": 26
    },
    {
     "cell_type": "code",
     "collapsed": false,
     "input": [],
     "language": "python",
     "metadata": {},
     "outputs": []
    }
   ],
   "metadata": {}
  }
 ]
}